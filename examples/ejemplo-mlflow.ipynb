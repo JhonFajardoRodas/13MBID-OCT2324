{
 "cells": [
  {
   "cell_type": "code",
   "execution_count": 1,
   "metadata": {},
   "outputs": [],
   "source": [
    "import mlflow\n",
    "\n",
    "from sklearn.datasets import load_iris\n",
    "from sklearn.cluster import DBSCAN, KMeans\n",
    "from sklearn.metrics import (\n",
    "    silhouette_score,\n",
    "    davies_bouldin_score,\n",
    ")"
   ]
  },
  {
   "cell_type": "code",
   "execution_count": 2,
   "metadata": {},
   "outputs": [],
   "source": [
    "# Se hace la lectura del dataset de prueba\n",
    "\n",
    "db = load_iris()\n",
    "features = db.data\n",
    "target = db.target"
   ]
  },
  {
   "cell_type": "code",
   "execution_count": 9,
   "metadata": {},
   "outputs": [
    {
     "name": "stderr",
     "output_type": "stream",
     "text": [
      "2024/04/18 21:37:47 INFO mlflow.tracking.fluent: Autologging successfully enabled for sklearn.\n",
      "2024/04/18 21:37:47 INFO mlflow.utils.autologging_utils: Created MLflow autologging run with ID '0ed5f371d3334147ba9fa716dcf2d622', which will track hyperparameters, performance metrics, model artifacts, and lineage information for the current sklearn workflow\n",
      "2024/04/18 21:37:47 WARNING mlflow.sklearn: Training metrics will not be recorded because training labels were not specified. To automatically record training metrics, provide training labels as inputs to the model training function.\n",
      "2024/04/18 21:37:47 WARNING mlflow.sklearn: Failed to infer model signature: the trained model does not have a `predict` or `transform` function, which is required in order to infer the signature\n",
      "2024/04/18 21:37:47 WARNING mlflow.sklearn: Model was missing function: predict. Not logging python_function flavor!\n"
     ]
    },
    {
     "data": {
      "text/plain": [
       "array([ 0,  0,  0,  0,  0,  0,  0,  0,  0,  0,  0,  0,  0,  0,  0,  0,  0,\n",
       "        0,  0,  0,  0,  0,  0,  0,  0,  0,  0,  0,  0,  0,  0,  0,  0,  0,\n",
       "        0,  0,  0,  0,  0,  0,  0, -1,  0,  0,  0,  0,  0,  0,  0,  0,  1,\n",
       "        1,  1,  1,  1,  1,  1, -1,  1,  1, -1,  1,  1,  1,  1,  1,  1,  1,\n",
       "       -1,  1,  1,  1,  1,  1,  1,  1,  1,  1,  1,  1,  1,  1,  1,  1,  1,\n",
       "        1,  1, -1,  1,  1,  1,  1,  1, -1,  1,  1,  1,  1, -1,  1,  1,  1,\n",
       "        1,  1,  1, -1, -1,  1, -1, -1,  1,  1,  1,  1,  1,  1,  1, -1, -1,\n",
       "        1,  1,  1, -1,  1,  1,  1,  1,  1,  1,  1,  1, -1,  1,  1, -1, -1,\n",
       "        1,  1,  1,  1,  1,  1,  1,  1,  1,  1,  1,  1,  1,  1],\n",
       "      dtype=int64)"
      ]
     },
     "execution_count": 9,
     "metadata": {},
     "output_type": "execute_result"
    }
   ],
   "source": [
    "# Opción básica\n",
    "mlflow.autolog()\n",
    "\n",
    "# Clustering con DBSCAN.\n",
    "dbscan = DBSCAN(eps=0.5, min_samples=5)\n",
    "\n",
    "dbscan.fit_predict(features)"
   ]
  },
  {
   "cell_type": "code",
   "execution_count": 6,
   "metadata": {},
   "outputs": [
    {
     "name": "stderr",
     "output_type": "stream",
     "text": [
      "2024/04/18 21:35:19 INFO mlflow.utils.autologging_utils: Created MLflow autologging run with ID '40e15a09ca104d599f0f1d6e45e2d131', which will track hyperparameters, performance metrics, model artifacts, and lineage information for the current sklearn workflow\n",
      "2024/04/18 21:35:19 WARNING mlflow.sklearn: Training metrics will not be recorded because training labels were not specified. To automatically record training metrics, provide training labels as inputs to the model training function.\n",
      "2024/04/18 21:35:27 INFO mlflow.utils.autologging_utils: Created MLflow autologging run with ID '153f1f7ef17f41edbf37c38302d6d265', which will track hyperparameters, performance metrics, model artifacts, and lineage information for the current sklearn workflow\n",
      "2024/04/18 21:35:28 WARNING mlflow.sklearn: Training metrics will not be recorded because training labels were not specified. To automatically record training metrics, provide training labels as inputs to the model training function.\n"
     ]
    },
    {
     "data": {
      "text/plain": [
       "0.6660385791628493"
      ]
     },
     "execution_count": 6,
     "metadata": {},
     "output_type": "execute_result"
    }
   ],
   "source": [
    "# Clustering con Kmeans.\n",
    "kmeans = KMeans(n_clusters=3, random_state=42)\n",
    "\n",
    "kmeans.fit_predict(features)\n",
    "\n",
    "davies_bouldin_score(features, kmeans.fit_predict(features))"
   ]
  },
  {
   "cell_type": "code",
   "execution_count": 8,
   "metadata": {},
   "outputs": [
    {
     "name": "stderr",
     "output_type": "stream",
     "text": [
      "2024/04/18 21:36:10 WARNING mlflow.sklearn: Training metrics will not be recorded because training labels were not specified. To automatically record training metrics, provide training labels as inputs to the model training function.\n"
     ]
    }
   ],
   "source": [
    "# Se puede hacer una experimentación nominal\n",
    "\n",
    "exp_name = 'Clustering-Ejemplos'\n",
    "exp_id = mlflow.create_experiment(name=exp_name)\n",
    "\n",
    "with mlflow.start_run(experiment_id=exp_id, run_name=\"Kmeans - K=2\"):\n",
    "    modelo_clusters = KMeans(n_clusters=2)\n",
    "    trained_model = modelo_clusters.fit(features)\n",
    "    cluster_labels = trained_model.labels_\n",
    "    score = silhouette_score(features, cluster_labels)\n",
    "    #save parameter\n",
    "    mlflow.log_param('value_of_k', 2)\n",
    "    #save metric\n",
    "    mlflow.log_metric('silhoutte_score', score)\n",
    "    #save model\n",
    "    mlflow.sklearn.log_model(trained_model, \"Clustering_Model\")\n",
    "    #end current run\n",
    "    mlflow.end_run()"
   ]
  },
  {
   "cell_type": "code",
   "execution_count": 10,
   "metadata": {},
   "outputs": [
    {
     "name": "stderr",
     "output_type": "stream",
     "text": [
      "2024/04/18 21:38:02 WARNING mlflow.sklearn: Training metrics will not be recorded because training labels were not specified. To automatically record training metrics, provide training labels as inputs to the model training function.\n"
     ]
    }
   ],
   "source": [
    "with mlflow.start_run(experiment_id=exp_id, run_name=\"Kmeans - K=3\"):\n",
    "    modelo_clusters = KMeans(n_clusters=3)\n",
    "    trained_model = modelo_clusters.fit(features)\n",
    "    cluster_labels = trained_model.labels_\n",
    "    score = silhouette_score(features, cluster_labels)\n",
    "    score_2 = davies_bouldin_score(features, cluster_labels)\n",
    "    #save parameter\n",
    "    mlflow.log_param('value_of_k', 3)\n",
    "    #save metric\n",
    "    mlflow.log_metric('silhoutte_score', score)\n",
    "    mlflow.log_metric('davies_bouldin_score', score_2)\n",
    "    #save model\n",
    "    mlflow.sklearn.log_model(trained_model, \"Clustering_Model\")\n",
    "    #end current run\n",
    "    mlflow.end_run()"
   ]
  },
  {
   "cell_type": "code",
   "execution_count": 11,
   "metadata": {},
   "outputs": [
    {
     "name": "stderr",
     "output_type": "stream",
     "text": [
      "2024/04/18 21:38:24 WARNING mlflow.sklearn: Training metrics will not be recorded because training labels were not specified. To automatically record training metrics, provide training labels as inputs to the model training function.\n",
      "2024/04/18 21:38:24 WARNING mlflow.sklearn: Failed to infer model signature: the trained model does not have a `predict` or `transform` function, which is required in order to infer the signature\n",
      "2024/04/18 21:38:24 WARNING mlflow.sklearn: Model was missing function: predict. Not logging python_function flavor!\n",
      "2024/04/18 21:38:32 WARNING mlflow.sklearn: Model was missing function: predict. Not logging python_function flavor!\n"
     ]
    }
   ],
   "source": [
    "with mlflow.start_run(experiment_id=exp_id, run_name=\"DBSCAN\"):\n",
    "    modelo_clusters = DBSCAN(eps=0.5, min_samples=5)\n",
    "    trained_model = modelo_clusters.fit(features)\n",
    "    cluster_labels = trained_model.labels_\n",
    "    score=silhouette_score(features, cluster_labels)\n",
    "    #save parameter\n",
    "    mlflow.log_param('min_samples', 5)\n",
    "    mlflow.log_param('eps', 0.5)\n",
    "    #save metric\n",
    "    mlflow.log_metric('silhoutte_score', score)\n",
    "    #save model\n",
    "    mlflow.sklearn.log_model(trained_model, \"Clustering_Model\")\n",
    "    #end current run\n",
    "    mlflow.end_run()"
   ]
  },
  {
   "cell_type": "code",
   "execution_count": 12,
   "metadata": {},
   "outputs": [
    {
     "name": "stdout",
     "output_type": "stream",
     "text": [
      "^C\n"
     ]
    }
   ],
   "source": [
    "!mlflow ui"
   ]
  }
 ],
 "metadata": {
  "kernelspec": {
   "display_name": "viu-23",
   "language": "python",
   "name": "python3"
  },
  "language_info": {
   "codemirror_mode": {
    "name": "ipython",
    "version": 3
   },
   "file_extension": ".py",
   "mimetype": "text/x-python",
   "name": "python",
   "nbconvert_exporter": "python",
   "pygments_lexer": "ipython3",
   "version": "3.12.3"
  },
  "orig_nbformat": 4
 },
 "nbformat": 4,
 "nbformat_minor": 2
}
